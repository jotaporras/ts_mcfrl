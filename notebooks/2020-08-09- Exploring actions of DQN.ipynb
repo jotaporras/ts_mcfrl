{
 "cells": [
  {
   "cell_type": "markdown",
   "metadata": {},
   "source": [
    "# Exploring actions of the DQN\n",
    "here we will see the actions of a debug DQN run on the last of 1000 episodes.\n",
    "Parameters:\n",
    "```\n",
    "    num_dcs = 10\n",
    "    num_customers = 2\n",
    "    num_commodities = 4\n",
    "    orders_per_day = 2\n",
    "    dcs_per_customer = 3\n",
    "    demand_mean = 100\n",
    "    demand_var = 20\n",
    "\n",
    "    num_steps = 50\n",
    "    num_episodes = 1000\n",
    "```\n",
    "**Commit hash:** 74ab129039874c95bbeee44585d11c75ed881e13"
   ]
  },
  {
   "cell_type": "code",
   "execution_count": null,
   "metadata": {},
   "outputs": [],
   "source": []
  },
  {
   "cell_type": "code",
   "execution_count": 34,
   "metadata": {},
   "outputs": [
    {
     "name": "stdout",
     "output_type": "stream",
     "text": [
      "Running notebook from: /Users/aleph/Documents/jota/tesis/ts_mcfrl\n"
     ]
    }
   ],
   "source": [
    "import numpy as np\n",
    "import pandas as pd \n",
    "import matplotlib.pyplot as plt\n",
    "import seaborn as sns\n",
    "%config InlineBackend.figure_format = \"retina\"\n",
    "from pathlib import Path\n",
    "import os\n",
    "project_dir = Path(globals()['_dh'][0]+\"/..\").resolve()\n",
    "os.chdir(project_dir)\n",
    "print(\"Running notebook from: \" + os.path.abspath(\"\"))\n",
    "\n",
    "from IPython.core.interactiveshell import InteractiveShell\n",
    "# InteractiveShell.ast_node_interactivity = \"last_expr\" # Default jupyter behavior\n",
    "InteractiveShell.ast_node_interactivity = \"all\" # All expressions are shown."
   ]
  },
  {
   "cell_type": "markdown",
   "metadata": {},
   "source": [
    "# 1 - Actions on episode 1\n"
   ]
  },
  {
   "cell_type": "code",
   "execution_count": 49,
   "metadata": {},
   "outputs": [],
   "source": [
    "def add_is_m(df):\n",
    "    df['unit_cost']=(df.customer_cost/df.customer_units).fillna(0)\n",
    "    df['is_m'] = df.unit_cost==1000\n",
    "    return df"
   ]
  },
  {
   "cell_type": "code",
   "execution_count": 75,
   "metadata": {},
   "outputs": [],
   "source": [
    "details_1 = pd.read_csv(\"python/data/results/two_customers_dqn_debug/ep_1/movement_detail_report.csv\")\n",
    "details_1 = add_is_m(details_1)"
   ]
  },
  {
   "cell_type": "code",
   "execution_count": 52,
   "metadata": {},
   "outputs": [],
   "source": [
    "to_customer_1 = details_1.query('source_kind==\"DC\"').query('destination_kind==\"C\"')"
   ]
  },
  {
   "cell_type": "markdown",
   "metadata": {},
   "source": [
    "On episode 1, customer movements were distributed between many DCs"
   ]
  },
  {
   "cell_type": "code",
   "execution_count": 27,
   "metadata": {},
   "outputs": [
    {
     "data": {
      "text/html": [
       "<div>\n",
       "<style scoped>\n",
       "    .dataframe tbody tr th:only-of-type {\n",
       "        vertical-align: middle;\n",
       "    }\n",
       "\n",
       "    .dataframe tbody tr th {\n",
       "        vertical-align: top;\n",
       "    }\n",
       "\n",
       "    .dataframe thead th {\n",
       "        text-align: right;\n",
       "    }\n",
       "</style>\n",
       "<table border=\"1\" class=\"dataframe\">\n",
       "  <thead>\n",
       "    <tr style=\"text-align: right;\">\n",
       "      <th></th>\n",
       "      <th>source_name</th>\n",
       "      <th>destination_name</th>\n",
       "      <th>0</th>\n",
       "    </tr>\n",
       "  </thead>\n",
       "  <tbody>\n",
       "    <tr>\n",
       "      <th>0</th>\n",
       "      <td>dcs_3</td>\n",
       "      <td>c_10</td>\n",
       "      <td>42</td>\n",
       "    </tr>\n",
       "    <tr>\n",
       "      <th>2</th>\n",
       "      <td>dcs_5</td>\n",
       "      <td>c_10</td>\n",
       "      <td>24</td>\n",
       "    </tr>\n",
       "    <tr>\n",
       "      <th>4</th>\n",
       "      <td>dcs_6</td>\n",
       "      <td>c_10</td>\n",
       "      <td>2</td>\n",
       "    </tr>\n",
       "    <tr>\n",
       "      <th>6</th>\n",
       "      <td>dcs_8</td>\n",
       "      <td>c_10</td>\n",
       "      <td>2</td>\n",
       "    </tr>\n",
       "    <tr>\n",
       "      <th>8</th>\n",
       "      <td>dcs_9</td>\n",
       "      <td>c_10</td>\n",
       "      <td>22</td>\n",
       "    </tr>\n",
       "    <tr>\n",
       "      <th>1</th>\n",
       "      <td>dcs_3</td>\n",
       "      <td>c_11</td>\n",
       "      <td>26</td>\n",
       "    </tr>\n",
       "    <tr>\n",
       "      <th>3</th>\n",
       "      <td>dcs_5</td>\n",
       "      <td>c_11</td>\n",
       "      <td>36</td>\n",
       "    </tr>\n",
       "    <tr>\n",
       "      <th>5</th>\n",
       "      <td>dcs_6</td>\n",
       "      <td>c_11</td>\n",
       "      <td>2</td>\n",
       "    </tr>\n",
       "    <tr>\n",
       "      <th>7</th>\n",
       "      <td>dcs_8</td>\n",
       "      <td>c_11</td>\n",
       "      <td>2</td>\n",
       "    </tr>\n",
       "    <tr>\n",
       "      <th>9</th>\n",
       "      <td>dcs_9</td>\n",
       "      <td>c_11</td>\n",
       "      <td>26</td>\n",
       "    </tr>\n",
       "  </tbody>\n",
       "</table>\n",
       "</div>"
      ],
      "text/plain": [
       "  source_name destination_name   0\n",
       "0       dcs_3             c_10  42\n",
       "2       dcs_5             c_10  24\n",
       "4       dcs_6             c_10   2\n",
       "6       dcs_8             c_10   2\n",
       "8       dcs_9             c_10  22\n",
       "1       dcs_3             c_11  26\n",
       "3       dcs_5             c_11  36\n",
       "5       dcs_6             c_11   2\n",
       "7       dcs_8             c_11   2\n",
       "9       dcs_9             c_11  26"
      ]
     },
     "execution_count": 27,
     "metadata": {},
     "output_type": "execute_result"
    }
   ],
   "source": [
    "to_customer_1.groupby([\"source_name\",\"destination_name\"]).size().reset_index().sort_values([\"destination_name\",'source_name'])"
   ]
  },
  {
   "cell_type": "markdown",
   "metadata": {},
   "source": [
    "# 2 - Checking actions on episode 999"
   ]
  },
  {
   "cell_type": "code",
   "execution_count": 76,
   "metadata": {},
   "outputs": [],
   "source": [
    "details_999 = pd.read_csv(\"python/data/results/two_customers_dqn_debug/ep_999/movement_detail_report.csv\")\n",
    "details_999 = add_is_m(details_999)"
   ]
  },
  {
   "cell_type": "code",
   "execution_count": 56,
   "metadata": {},
   "outputs": [],
   "source": [
    "to_customer_999 = details_999.query('source_kind==\"DC\"').query('destination_kind==\"C\"')"
   ]
  },
  {
   "cell_type": "markdown",
   "metadata": {},
   "source": [
    "By the end of episode 999, the DQN was serving from a single DC 100% of the time"
   ]
  },
  {
   "cell_type": "code",
   "execution_count": 57,
   "metadata": {},
   "outputs": [
    {
     "data": {
      "text/html": [
       "<div>\n",
       "<style scoped>\n",
       "    .dataframe tbody tr th:only-of-type {\n",
       "        vertical-align: middle;\n",
       "    }\n",
       "\n",
       "    .dataframe tbody tr th {\n",
       "        vertical-align: top;\n",
       "    }\n",
       "\n",
       "    .dataframe thead th {\n",
       "        text-align: right;\n",
       "    }\n",
       "</style>\n",
       "<table border=\"1\" class=\"dataframe\">\n",
       "  <thead>\n",
       "    <tr style=\"text-align: right;\">\n",
       "      <th></th>\n",
       "      <th>source_name</th>\n",
       "      <th>destination_name</th>\n",
       "      <th>0</th>\n",
       "    </tr>\n",
       "  </thead>\n",
       "  <tbody>\n",
       "    <tr>\n",
       "      <th>0</th>\n",
       "      <td>dcs_9</td>\n",
       "      <td>c_10</td>\n",
       "      <td>92</td>\n",
       "    </tr>\n",
       "    <tr>\n",
       "      <th>1</th>\n",
       "      <td>dcs_9</td>\n",
       "      <td>c_11</td>\n",
       "      <td>92</td>\n",
       "    </tr>\n",
       "  </tbody>\n",
       "</table>\n",
       "</div>"
      ],
      "text/plain": [
       "  source_name destination_name   0\n",
       "0       dcs_9             c_10  92\n",
       "1       dcs_9             c_11  92"
      ]
     },
     "execution_count": 57,
     "metadata": {},
     "output_type": "execute_result"
    }
   ],
   "source": [
    "to_customer_999.groupby([\"source_name\",\"destination_name\"]).size().reset_index()"
   ]
  },
  {
   "cell_type": "markdown",
   "metadata": {},
   "source": [
    "# 3 - Compare the number of big Ms\n",
    "The number of Big Ms should have dropped from ep 1 to 999"
   ]
  },
  {
   "cell_type": "markdown",
   "metadata": {},
   "source": [
    "Total big M numbers"
   ]
  },
  {
   "cell_type": "code",
   "execution_count": 78,
   "metadata": {},
   "outputs": [
    {
     "data": {
      "text/plain": [
       "'To customer M summary ep 1'"
      ]
     },
     "metadata": {},
     "output_type": "display_data"
    },
    {
     "data": {
      "text/html": [
       "<div>\n",
       "<style scoped>\n",
       "    .dataframe tbody tr th:only-of-type {\n",
       "        vertical-align: middle;\n",
       "    }\n",
       "\n",
       "    .dataframe tbody tr th {\n",
       "        vertical-align: top;\n",
       "    }\n",
       "\n",
       "    .dataframe thead th {\n",
       "        text-align: right;\n",
       "    }\n",
       "</style>\n",
       "<table border=\"1\" class=\"dataframe\">\n",
       "  <thead>\n",
       "    <tr style=\"text-align: right;\">\n",
       "      <th></th>\n",
       "      <th>is_m</th>\n",
       "      <th>0</th>\n",
       "    </tr>\n",
       "  </thead>\n",
       "  <tbody>\n",
       "    <tr>\n",
       "      <th>0</th>\n",
       "      <td>False</td>\n",
       "      <td>2</td>\n",
       "    </tr>\n",
       "    <tr>\n",
       "      <th>1</th>\n",
       "      <td>True</td>\n",
       "      <td>182</td>\n",
       "    </tr>\n",
       "  </tbody>\n",
       "</table>\n",
       "</div>"
      ],
      "text/plain": [
       "    is_m    0\n",
       "0  False    2\n",
       "1   True  182"
      ]
     },
     "execution_count": 78,
     "metadata": {},
     "output_type": "execute_result"
    },
    {
     "data": {
      "text/plain": [
       "'To customer M summary ep 999'"
      ]
     },
     "metadata": {},
     "output_type": "display_data"
    },
    {
     "data": {
      "text/html": [
       "<div>\n",
       "<style scoped>\n",
       "    .dataframe tbody tr th:only-of-type {\n",
       "        vertical-align: middle;\n",
       "    }\n",
       "\n",
       "    .dataframe tbody tr th {\n",
       "        vertical-align: top;\n",
       "    }\n",
       "\n",
       "    .dataframe thead th {\n",
       "        text-align: right;\n",
       "    }\n",
       "</style>\n",
       "<table border=\"1\" class=\"dataframe\">\n",
       "  <thead>\n",
       "    <tr style=\"text-align: right;\">\n",
       "      <th></th>\n",
       "      <th>is_m</th>\n",
       "      <th>0</th>\n",
       "    </tr>\n",
       "  </thead>\n",
       "  <tbody>\n",
       "    <tr>\n",
       "      <th>0</th>\n",
       "      <td>True</td>\n",
       "      <td>184</td>\n",
       "    </tr>\n",
       "  </tbody>\n",
       "</table>\n",
       "</div>"
      ],
      "text/plain": [
       "   is_m    0\n",
       "0  True  184"
      ]
     },
     "execution_count": 78,
     "metadata": {},
     "output_type": "execute_result"
    }
   ],
   "source": [
    "display(\"To customer M summary ep 1\")\n",
    "to_customer_1.groupby(['is_m']).size().reset_index().sort_values(['is_m'])\n",
    "display(\"To customer M summary ep 999\")\n",
    "to_customer_999.groupby(['is_m']).size().reset_index().sort_values(['is_m'])"
   ]
  },
  {
   "cell_type": "markdown",
   "metadata": {},
   "source": [
    "Per Customer Big M numbers"
   ]
  },
  {
   "cell_type": "code",
   "execution_count": 70,
   "metadata": {},
   "outputs": [
    {
     "data": {
      "text/plain": [
       "'To customer M summary ep 1'"
      ]
     },
     "metadata": {},
     "output_type": "display_data"
    },
    {
     "data": {
      "text/html": [
       "<div>\n",
       "<style scoped>\n",
       "    .dataframe tbody tr th:only-of-type {\n",
       "        vertical-align: middle;\n",
       "    }\n",
       "\n",
       "    .dataframe tbody tr th {\n",
       "        vertical-align: top;\n",
       "    }\n",
       "\n",
       "    .dataframe thead th {\n",
       "        text-align: right;\n",
       "    }\n",
       "</style>\n",
       "<table border=\"1\" class=\"dataframe\">\n",
       "  <thead>\n",
       "    <tr style=\"text-align: right;\">\n",
       "      <th></th>\n",
       "      <th>is_m</th>\n",
       "      <th>source_name</th>\n",
       "      <th>destination_name</th>\n",
       "      <th>0</th>\n",
       "    </tr>\n",
       "  </thead>\n",
       "  <tbody>\n",
       "    <tr>\n",
       "      <th>1</th>\n",
       "      <td>True</td>\n",
       "      <td>dcs_3</td>\n",
       "      <td>c_10</td>\n",
       "      <td>42</td>\n",
       "    </tr>\n",
       "    <tr>\n",
       "      <th>3</th>\n",
       "      <td>True</td>\n",
       "      <td>dcs_5</td>\n",
       "      <td>c_10</td>\n",
       "      <td>24</td>\n",
       "    </tr>\n",
       "    <tr>\n",
       "      <th>5</th>\n",
       "      <td>True</td>\n",
       "      <td>dcs_6</td>\n",
       "      <td>c_10</td>\n",
       "      <td>2</td>\n",
       "    </tr>\n",
       "    <tr>\n",
       "      <th>7</th>\n",
       "      <td>True</td>\n",
       "      <td>dcs_8</td>\n",
       "      <td>c_10</td>\n",
       "      <td>2</td>\n",
       "    </tr>\n",
       "    <tr>\n",
       "      <th>8</th>\n",
       "      <td>True</td>\n",
       "      <td>dcs_9</td>\n",
       "      <td>c_10</td>\n",
       "      <td>22</td>\n",
       "    </tr>\n",
       "    <tr>\n",
       "      <th>0</th>\n",
       "      <td>False</td>\n",
       "      <td>dcs_8</td>\n",
       "      <td>c_11</td>\n",
       "      <td>2</td>\n",
       "    </tr>\n",
       "    <tr>\n",
       "      <th>2</th>\n",
       "      <td>True</td>\n",
       "      <td>dcs_3</td>\n",
       "      <td>c_11</td>\n",
       "      <td>26</td>\n",
       "    </tr>\n",
       "    <tr>\n",
       "      <th>4</th>\n",
       "      <td>True</td>\n",
       "      <td>dcs_5</td>\n",
       "      <td>c_11</td>\n",
       "      <td>36</td>\n",
       "    </tr>\n",
       "    <tr>\n",
       "      <th>6</th>\n",
       "      <td>True</td>\n",
       "      <td>dcs_6</td>\n",
       "      <td>c_11</td>\n",
       "      <td>2</td>\n",
       "    </tr>\n",
       "    <tr>\n",
       "      <th>9</th>\n",
       "      <td>True</td>\n",
       "      <td>dcs_9</td>\n",
       "      <td>c_11</td>\n",
       "      <td>26</td>\n",
       "    </tr>\n",
       "  </tbody>\n",
       "</table>\n",
       "</div>"
      ],
      "text/plain": [
       "    is_m source_name destination_name   0\n",
       "1   True       dcs_3             c_10  42\n",
       "3   True       dcs_5             c_10  24\n",
       "5   True       dcs_6             c_10   2\n",
       "7   True       dcs_8             c_10   2\n",
       "8   True       dcs_9             c_10  22\n",
       "0  False       dcs_8             c_11   2\n",
       "2   True       dcs_3             c_11  26\n",
       "4   True       dcs_5             c_11  36\n",
       "6   True       dcs_6             c_11   2\n",
       "9   True       dcs_9             c_11  26"
      ]
     },
     "execution_count": 70,
     "metadata": {},
     "output_type": "execute_result"
    },
    {
     "data": {
      "text/plain": [
       "'To customer M summary ep 999'"
      ]
     },
     "metadata": {},
     "output_type": "display_data"
    },
    {
     "data": {
      "text/html": [
       "<div>\n",
       "<style scoped>\n",
       "    .dataframe tbody tr th:only-of-type {\n",
       "        vertical-align: middle;\n",
       "    }\n",
       "\n",
       "    .dataframe tbody tr th {\n",
       "        vertical-align: top;\n",
       "    }\n",
       "\n",
       "    .dataframe thead th {\n",
       "        text-align: right;\n",
       "    }\n",
       "</style>\n",
       "<table border=\"1\" class=\"dataframe\">\n",
       "  <thead>\n",
       "    <tr style=\"text-align: right;\">\n",
       "      <th></th>\n",
       "      <th>is_m</th>\n",
       "      <th>source_name</th>\n",
       "      <th>destination_name</th>\n",
       "      <th>0</th>\n",
       "    </tr>\n",
       "  </thead>\n",
       "  <tbody>\n",
       "    <tr>\n",
       "      <th>0</th>\n",
       "      <td>True</td>\n",
       "      <td>dcs_9</td>\n",
       "      <td>c_10</td>\n",
       "      <td>92</td>\n",
       "    </tr>\n",
       "    <tr>\n",
       "      <th>1</th>\n",
       "      <td>True</td>\n",
       "      <td>dcs_9</td>\n",
       "      <td>c_11</td>\n",
       "      <td>92</td>\n",
       "    </tr>\n",
       "  </tbody>\n",
       "</table>\n",
       "</div>"
      ],
      "text/plain": [
       "   is_m source_name destination_name   0\n",
       "0  True       dcs_9             c_10  92\n",
       "1  True       dcs_9             c_11  92"
      ]
     },
     "execution_count": 70,
     "metadata": {},
     "output_type": "execute_result"
    }
   ],
   "source": [
    "display(\"To customer M summary ep 1\")\n",
    "to_customer_1.groupby(['is_m','source_name','destination_name']).size().reset_index().sort_values(['destination_name','is_m'])\n",
    "display(\"To customer M summary ep 999\")\n",
    "to_customer_999.groupby(['is_m','source_name','destination_name']).size().reset_index().sort_values(['destination_name','is_m'])"
   ]
  },
  {
   "cell_type": "markdown",
   "metadata": {},
   "source": [
    "# Total cost\n",
    "Total cost actually went up in the last EP compared to the first."
   ]
  },
  {
   "cell_type": "code",
   "execution_count": 74,
   "metadata": {},
   "outputs": [
    {
     "data": {
      "text/plain": [
       "91071240"
      ]
     },
     "execution_count": 74,
     "metadata": {},
     "output_type": "execute_result"
    },
    {
     "data": {
      "text/plain": [
       "91748000"
      ]
     },
     "execution_count": 74,
     "metadata": {},
     "output_type": "execute_result"
    }
   ],
   "source": [
    "to_customer_1.customer_cost.sum()\n",
    "to_customer_999.customer_cost.sum()"
   ]
  },
  {
   "cell_type": "code",
   "execution_count": 71,
   "metadata": {},
   "outputs": [
    {
     "data": {
      "text/html": [
       "<div>\n",
       "<style scoped>\n",
       "    .dataframe tbody tr th:only-of-type {\n",
       "        vertical-align: middle;\n",
       "    }\n",
       "\n",
       "    .dataframe tbody tr th {\n",
       "        vertical-align: top;\n",
       "    }\n",
       "\n",
       "    .dataframe thead th {\n",
       "        text-align: right;\n",
       "    }\n",
       "</style>\n",
       "<table border=\"1\" class=\"dataframe\">\n",
       "  <thead>\n",
       "    <tr style=\"text-align: right;\">\n",
       "      <th></th>\n",
       "      <th>source_name</th>\n",
       "      <th>destination_name</th>\n",
       "      <th>source_time</th>\n",
       "      <th>destination_time</th>\n",
       "      <th>source_kind</th>\n",
       "      <th>destination_kind</th>\n",
       "      <th>movement_type</th>\n",
       "      <th>transportation_units</th>\n",
       "      <th>transportation_cost</th>\n",
       "      <th>inventory_units</th>\n",
       "      <th>inventory_cost</th>\n",
       "      <th>customer_units</th>\n",
       "      <th>customer_cost</th>\n",
       "      <th>unit_cost</th>\n",
       "      <th>is_m</th>\n",
       "    </tr>\n",
       "  </thead>\n",
       "  <tbody>\n",
       "    <tr>\n",
       "      <th>5</th>\n",
       "      <td>dcs_3</td>\n",
       "      <td>c_10</td>\n",
       "      <td>5</td>\n",
       "      <td>5</td>\n",
       "      <td>DC</td>\n",
       "      <td>C</td>\n",
       "      <td>Delivery</td>\n",
       "      <td>0</td>\n",
       "      <td>0</td>\n",
       "      <td>0</td>\n",
       "      <td>0</td>\n",
       "      <td>638</td>\n",
       "      <td>638000</td>\n",
       "      <td>1000.0</td>\n",
       "      <td>True</td>\n",
       "    </tr>\n",
       "    <tr>\n",
       "      <th>6</th>\n",
       "      <td>dcs_3</td>\n",
       "      <td>c_11</td>\n",
       "      <td>5</td>\n",
       "      <td>5</td>\n",
       "      <td>DC</td>\n",
       "      <td>C</td>\n",
       "      <td>Delivery</td>\n",
       "      <td>0</td>\n",
       "      <td>0</td>\n",
       "      <td>0</td>\n",
       "      <td>0</td>\n",
       "      <td>358</td>\n",
       "      <td>358000</td>\n",
       "      <td>1000.0</td>\n",
       "      <td>True</td>\n",
       "    </tr>\n",
       "    <tr>\n",
       "      <th>9</th>\n",
       "      <td>dcs_3</td>\n",
       "      <td>c_10</td>\n",
       "      <td>5</td>\n",
       "      <td>5</td>\n",
       "      <td>DC</td>\n",
       "      <td>C</td>\n",
       "      <td>Delivery</td>\n",
       "      <td>0</td>\n",
       "      <td>0</td>\n",
       "      <td>0</td>\n",
       "      <td>0</td>\n",
       "      <td>638</td>\n",
       "      <td>638000</td>\n",
       "      <td>1000.0</td>\n",
       "      <td>True</td>\n",
       "    </tr>\n",
       "    <tr>\n",
       "      <th>10</th>\n",
       "      <td>dcs_3</td>\n",
       "      <td>c_11</td>\n",
       "      <td>5</td>\n",
       "      <td>5</td>\n",
       "      <td>DC</td>\n",
       "      <td>C</td>\n",
       "      <td>Delivery</td>\n",
       "      <td>0</td>\n",
       "      <td>0</td>\n",
       "      <td>0</td>\n",
       "      <td>0</td>\n",
       "      <td>358</td>\n",
       "      <td>358000</td>\n",
       "      <td>1000.0</td>\n",
       "      <td>True</td>\n",
       "    </tr>\n",
       "    <tr>\n",
       "      <th>18</th>\n",
       "      <td>dcs_3</td>\n",
       "      <td>c_10</td>\n",
       "      <td>6</td>\n",
       "      <td>6</td>\n",
       "      <td>DC</td>\n",
       "      <td>C</td>\n",
       "      <td>Delivery</td>\n",
       "      <td>0</td>\n",
       "      <td>0</td>\n",
       "      <td>0</td>\n",
       "      <td>0</td>\n",
       "      <td>640</td>\n",
       "      <td>640000</td>\n",
       "      <td>1000.0</td>\n",
       "      <td>True</td>\n",
       "    </tr>\n",
       "    <tr>\n",
       "      <th>...</th>\n",
       "      <td>...</td>\n",
       "      <td>...</td>\n",
       "      <td>...</td>\n",
       "      <td>...</td>\n",
       "      <td>...</td>\n",
       "      <td>...</td>\n",
       "      <td>...</td>\n",
       "      <td>...</td>\n",
       "      <td>...</td>\n",
       "      <td>...</td>\n",
       "      <td>...</td>\n",
       "      <td>...</td>\n",
       "      <td>...</td>\n",
       "      <td>...</td>\n",
       "      <td>...</td>\n",
       "    </tr>\n",
       "    <tr>\n",
       "      <th>454</th>\n",
       "      <td>dcs_3</td>\n",
       "      <td>c_10</td>\n",
       "      <td>49</td>\n",
       "      <td>49</td>\n",
       "      <td>DC</td>\n",
       "      <td>C</td>\n",
       "      <td>Delivery</td>\n",
       "      <td>0</td>\n",
       "      <td>0</td>\n",
       "      <td>0</td>\n",
       "      <td>0</td>\n",
       "      <td>635</td>\n",
       "      <td>635000</td>\n",
       "      <td>1000.0</td>\n",
       "      <td>True</td>\n",
       "    </tr>\n",
       "    <tr>\n",
       "      <th>455</th>\n",
       "      <td>dcs_9</td>\n",
       "      <td>c_10</td>\n",
       "      <td>50</td>\n",
       "      <td>50</td>\n",
       "      <td>DC</td>\n",
       "      <td>C</td>\n",
       "      <td>Delivery</td>\n",
       "      <td>0</td>\n",
       "      <td>0</td>\n",
       "      <td>0</td>\n",
       "      <td>0</td>\n",
       "      <td>637</td>\n",
       "      <td>637000</td>\n",
       "      <td>1000.0</td>\n",
       "      <td>True</td>\n",
       "    </tr>\n",
       "    <tr>\n",
       "      <th>456</th>\n",
       "      <td>dcs_9</td>\n",
       "      <td>c_11</td>\n",
       "      <td>50</td>\n",
       "      <td>50</td>\n",
       "      <td>DC</td>\n",
       "      <td>C</td>\n",
       "      <td>Delivery</td>\n",
       "      <td>0</td>\n",
       "      <td>0</td>\n",
       "      <td>0</td>\n",
       "      <td>0</td>\n",
       "      <td>359</td>\n",
       "      <td>359000</td>\n",
       "      <td>1000.0</td>\n",
       "      <td>True</td>\n",
       "    </tr>\n",
       "    <tr>\n",
       "      <th>457</th>\n",
       "      <td>dcs_9</td>\n",
       "      <td>c_10</td>\n",
       "      <td>50</td>\n",
       "      <td>50</td>\n",
       "      <td>DC</td>\n",
       "      <td>C</td>\n",
       "      <td>Delivery</td>\n",
       "      <td>0</td>\n",
       "      <td>0</td>\n",
       "      <td>0</td>\n",
       "      <td>0</td>\n",
       "      <td>637</td>\n",
       "      <td>637000</td>\n",
       "      <td>1000.0</td>\n",
       "      <td>True</td>\n",
       "    </tr>\n",
       "    <tr>\n",
       "      <th>458</th>\n",
       "      <td>dcs_9</td>\n",
       "      <td>c_11</td>\n",
       "      <td>50</td>\n",
       "      <td>50</td>\n",
       "      <td>DC</td>\n",
       "      <td>C</td>\n",
       "      <td>Delivery</td>\n",
       "      <td>0</td>\n",
       "      <td>0</td>\n",
       "      <td>0</td>\n",
       "      <td>0</td>\n",
       "      <td>359</td>\n",
       "      <td>359000</td>\n",
       "      <td>1000.0</td>\n",
       "      <td>True</td>\n",
       "    </tr>\n",
       "  </tbody>\n",
       "</table>\n",
       "<p>184 rows × 15 columns</p>\n",
       "</div>"
      ],
      "text/plain": [
       "    source_name destination_name  source_time  destination_time source_kind  \\\n",
       "5         dcs_3             c_10            5                 5          DC   \n",
       "6         dcs_3             c_11            5                 5          DC   \n",
       "9         dcs_3             c_10            5                 5          DC   \n",
       "10        dcs_3             c_11            5                 5          DC   \n",
       "18        dcs_3             c_10            6                 6          DC   \n",
       "..          ...              ...          ...               ...         ...   \n",
       "454       dcs_3             c_10           49                49          DC   \n",
       "455       dcs_9             c_10           50                50          DC   \n",
       "456       dcs_9             c_11           50                50          DC   \n",
       "457       dcs_9             c_10           50                50          DC   \n",
       "458       dcs_9             c_11           50                50          DC   \n",
       "\n",
       "    destination_kind movement_type  transportation_units  transportation_cost  \\\n",
       "5                  C      Delivery                     0                    0   \n",
       "6                  C      Delivery                     0                    0   \n",
       "9                  C      Delivery                     0                    0   \n",
       "10                 C      Delivery                     0                    0   \n",
       "18                 C      Delivery                     0                    0   \n",
       "..               ...           ...                   ...                  ...   \n",
       "454                C      Delivery                     0                    0   \n",
       "455                C      Delivery                     0                    0   \n",
       "456                C      Delivery                     0                    0   \n",
       "457                C      Delivery                     0                    0   \n",
       "458                C      Delivery                     0                    0   \n",
       "\n",
       "     inventory_units  inventory_cost  customer_units  customer_cost  \\\n",
       "5                  0               0             638         638000   \n",
       "6                  0               0             358         358000   \n",
       "9                  0               0             638         638000   \n",
       "10                 0               0             358         358000   \n",
       "18                 0               0             640         640000   \n",
       "..               ...             ...             ...            ...   \n",
       "454                0               0             635         635000   \n",
       "455                0               0             637         637000   \n",
       "456                0               0             359         359000   \n",
       "457                0               0             637         637000   \n",
       "458                0               0             359         359000   \n",
       "\n",
       "     unit_cost  is_m  \n",
       "5       1000.0  True  \n",
       "6       1000.0  True  \n",
       "9       1000.0  True  \n",
       "10      1000.0  True  \n",
       "18      1000.0  True  \n",
       "..         ...   ...  \n",
       "454     1000.0  True  \n",
       "455     1000.0  True  \n",
       "456     1000.0  True  \n",
       "457     1000.0  True  \n",
       "458     1000.0  True  \n",
       "\n",
       "[184 rows x 15 columns]"
      ]
     },
     "execution_count": 71,
     "metadata": {},
     "output_type": "execute_result"
    }
   ],
   "source": []
  },
  {
   "cell_type": "markdown",
   "metadata": {},
   "source": [
    "# Conclusions\n",
    "The DQN is not generalizing correctly, even for two Customers with two DCs out of 10. It should have at least learned which DCs are valid to avoid big M costs.\n",
    "\n",
    "Could it be that the Big M cost signals are irrelevant compared to the overall size of the network? Could it be some neural net parameter tuning issue? WE need to get into the nitty gritty\n"
   ]
  },
  {
   "cell_type": "code",
   "execution_count": null,
   "metadata": {},
   "outputs": [],
   "source": []
  }
 ],
 "metadata": {
  "kernelspec": {
   "display_name": "Python 3",
   "language": "python",
   "name": "python3"
  },
  "language_info": {
   "codemirror_mode": {
    "name": "ipython",
    "version": 3
   },
   "file_extension": ".py",
   "mimetype": "text/x-python",
   "name": "python",
   "nbconvert_exporter": "python",
   "pygments_lexer": "ipython3",
   "version": "3.8.3"
  }
 },
 "nbformat": 4,
 "nbformat_minor": 4
}
