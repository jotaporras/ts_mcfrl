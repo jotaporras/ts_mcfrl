{
 "cells": [
  {
   "cell_type": "markdown",
   "metadata": {},
   "source": [
    "# 2020-08-12 Why is DQN Better?\n",
    "Try to find out why Big Ms are happening on Bestfit, and why DQN is better than best fit in the end"
   ]
  },
  {
   "cell_type": "code",
   "execution_count": 1,
   "metadata": {},
   "outputs": [
    {
     "name": "stdout",
     "output_type": "stream",
     "text": [
      "Running notebook from: /Users/aleph/Documents/jota/tesis/ts_mcfrl/python\n"
     ]
    }
   ],
   "source": [
    "import numpy as np\n",
    "import pandas as pd \n",
    "import matplotlib.pyplot as plt\n",
    "import seaborn as sns\n",
    "%config InlineBackend.figure_format = \"retina\"\n",
    "from pathlib import Path\n",
    "import os\n",
    "from IPython.display import display, Markdown, Latex\n",
    "\n",
    "project_dir = Path(globals()['_dh'][0]+\"/../python\").resolve()\n",
    "os.chdir(project_dir)\n",
    "print(\"Running notebook from: \" + os.path.abspath(\"\"))\n",
    "\n",
    "\n",
    "from IPython.core.interactiveshell import InteractiveShell\n",
    "# InteractiveShell.ast_node_interactivity = \"last_expr\" # Default jupyter behavior\n",
    "InteractiveShell.ast_node_interactivity = \"all\" # All expressions are shown."
   ]
  },
  {
   "cell_type": "markdown",
   "metadata": {},
   "source": [
    "# 1 - See actions and Big Ms of ep 999"
   ]
  },
  {
   "cell_type": "code",
   "execution_count": 20,
   "metadata": {},
   "outputs": [],
   "source": [
    "dqn2_actions_ep_999 = pd.read_csv(\"data/results/dqn2_few_warehouses_v3/ep_999/movement_detail_report.csv\")\n",
    "bestfit_actions_ep_999 = pd.read_csv(\"data/results/bestfit_few_warehouses_v3/ep_999/movement_detail_report.csv\")\n",
    "\n",
    "bestfit_consolidated_summary = pd.read_csv(\"data/results/bestfit_few_warehouses_v3/consolidated_summary.csv\")\n",
    "dqn2_consolidated_summary = pd.read_csv(\"data/results/dqn2_few_warehouses_v3/consolidated_summary.csv\")\n",
    "\n",
    "big_m = 100000\n",
    "dqn2_actions_ep_999['is_m'] = dqn2_actions_ep_999.customer_cost == dqn2_actions_ep_999.customer_units*big_m*10\n",
    "bestfit_actions_ep_999['is_m'] = bestfit_actions_ep_999.customer_cost == bestfit_actions_ep_999.customer_units*big_m*10"
   ]
  },
  {
   "cell_type": "markdown",
   "metadata": {},
   "source": [
    "As seen below, in the last episode DQN achieved lower number of bigms and thus lower overall cost. I can't see what the parameters were for this run so I don't know  what the valid DCs were, but I can do a debug run to see why Bestfit does BigM sometimes."
   ]
  },
  {
   "cell_type": "code",
   "execution_count": 19,
   "metadata": {},
   "outputs": [
    {
     "name": "stdout",
     "output_type": "stream",
     "text": [
      "DQN Big Ms\n"
     ]
    },
    {
     "data": {
      "text/plain": [
       "is_m\n",
       "False    650\n",
       "True      78\n",
       "dtype: int64"
      ]
     },
     "execution_count": 19,
     "metadata": {},
     "output_type": "execute_result"
    },
    {
     "name": "stdout",
     "output_type": "stream",
     "text": [
      "Bestfit Big Ms\n"
     ]
    },
    {
     "data": {
      "text/plain": [
       "is_m\n",
       "False    650\n",
       "True      99\n",
       "dtype: int64"
      ]
     },
     "execution_count": 19,
     "metadata": {},
     "output_type": "execute_result"
    },
    {
     "name": "stdout",
     "output_type": "stream",
     "text": [
      "Total cost ep 999 dqn\n"
     ]
    },
    {
     "data": {
      "text/plain": [
       "1979889830"
      ]
     },
     "execution_count": 19,
     "metadata": {},
     "output_type": "execute_result"
    },
    {
     "name": "stdout",
     "output_type": "stream",
     "text": [
      "Total cost ep 999 bestfit\n"
     ]
    },
    {
     "data": {
      "text/plain": [
       "3280709290"
      ]
     },
     "execution_count": 19,
     "metadata": {},
     "output_type": "execute_result"
    }
   ],
   "source": [
    "print(\"DQN Big Ms\")\n",
    "dqn2_actions_ep_999.groupby('is_m').size()\n",
    "print(\"Bestfit Big Ms\")\n",
    "bestfit_actions_ep_999.groupby('is_m').size()\n",
    "\n",
    "print(\"Total cost ep 999 dqn\")\n",
    "dqn2_consolidated_summary.query('episode==999').total_cost.sum()\n",
    "print(\"Total cost ep 999 bestfit\")\n",
    "bestfit_consolidated_summary.query('episode==999').total_cost.sum()\n"
   ]
  },
  {
   "cell_type": "markdown",
   "metadata": {},
   "source": [
    "# 2- Debugging Bestfit"
   ]
  },
  {
   "cell_type": "markdown",
   "metadata": {},
   "source": [
    "Bestfit is choosing DC 0, but some inventory is flowing from the other legal  DC, with Big M cost (because two DCs are being used?) \n",
    "Why are two dcs being used, could be that inventory is depleted.\n",
    "```\n",
    "Allowed DCs: [0 2]\n",
    "Chose allowed DC: -55 0\n",
    "Bestfit chose the legal move 0\n",
    "This is a Big M cost found in the optimization 14__dcs_2^0:5=>560__oc_66:5^0:5 ==> 3816\n",
    "\n",
    "```\n",
    "\n",
    "Looks like extended network, around line 119-125, is skipping all nodes of that c_66. Possibly because it's not in location_time_nodemap? \n",
    "Test those conditions very carefully. In the end, that arc is as if it didn't exist even though it's a valid arc. The NN learns to avoid this DC as it is bugged,\n",
    "But the bestfit may fall onto it again and again.\n",
    "\n",
    "This is funnily an advantage of the NN: it realized the bug before we did.\n",
    "\n",
    "I'm too tired to debug that condition, so Im gona do an agent that only chooses that Dcto validate.\n",
    "\n",
    "Looks like my theory is right: the TOP most valid DC is actually illegal in the extended network. Try testing it with a small net.\n",
    "\n",
    "On smaller envs happens after a while"
   ]
  },
  {
   "cell_type": "code",
   "execution_count": 28,
   "metadata": {},
   "outputs": [],
   "source": [
    "#plot ep costs for review\n",
    "d_summary_high = pd.read_csv(\"/Users/aleph/Documents/jota/tesis/ts_mcfrl/python/data/results/z_debug_agent_highest/ep_0/summary_movement_report.csv\").reset_index()\n",
    "d_summary_bestfit = pd.read_csv(\"/Users/aleph/Documents/jota/tesis/ts_mcfrl/python/data/results/z_debug_bestfit_few_warehouses/ep_0/summary_movement_report.csv\").reset_index()"
   ]
  },
  {
   "cell_type": "code",
   "execution_count": 36,
   "metadata": {},
   "outputs": [
    {
     "name": "stderr",
     "output_type": "stream",
     "text": [
      "No handles with labels found to put in legend.\n"
     ]
    },
    {
     "data": {
      "text/plain": [
       "<matplotlib.legend.Legend at 0x11c3f2280>"
      ]
     },
     "execution_count": 36,
     "metadata": {},
     "output_type": "execute_result"
    },
    {
     "data": {
      "image/png": "[encoded data removed]",
      "text/plain": [
       "<Figure size 432x288 with 1 Axes>"
      ]
     },
     "metadata": {
      "image/png": {
       "height": 272,
       "width": 386
      },
      "needs_background": "light"
     },
     "output_type": "display_data"
    }
   ],
   "source": [
    "fig = plt.figure()\n",
    "ax = sns.lineplot(x='index',y='total_cost',data=d_summary_high)\n",
    "ax.set_label(\"A\")\n",
    "sns.lineplot(x='index',y='total_cost',data=d_summary_bestfit).set_label(\"B\")\n",
    "plt.legend()# i am tired. i am going to sleep.bye."
   ]
  }
 ],
 "metadata": {
  "kernelspec": {
   "display_name": "Python 3",
   "language": "python",
   "name": "python3"
  },
  "language_info": {
   "codemirror_mode": {
    "name": "ipython",
    "version": 3
   },
   "file_extension": ".py",
   "mimetype": "text/x-python",
   "name": "python",
   "nbconvert_exporter": "python",
   "pygments_lexer": "ipython3",
   "version": "3.7.7"
  }
 },
 "nbformat": 4,
 "nbformat_minor": 4
}
