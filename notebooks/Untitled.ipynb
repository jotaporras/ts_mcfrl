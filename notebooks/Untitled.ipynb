{
 "cells": [
  {
   "cell_type": "code",
   "execution_count": 253,
   "metadata": {},
   "outputs": [],
   "source": [
    "import numpy as np\n",
    "from IPython.core.interactiveshell import InteractiveShell\n",
    "InteractiveShell.ast_node_interactivity = \"all\""
   ]
  },
  {
   "cell_type": "code",
   "execution_count": 269,
   "metadata": {},
   "outputs": [],
   "source": [
    "#params\n",
    "num_dcs=3\n",
    "num_customers=2\n",
    "num_commodities=3\n",
    "dcs_per_customer=1\n",
    "orders_per_day=3\n",
    "demand_mean=100\n",
    "demand_var= 20\n",
    "\n",
    "base_dc_assignment = np.zeros(num_dcs)\n",
    "base_dc_assignment[0:dcs_per_customer] = 1\n",
    "\n",
    "dcs_per_customer_array = np.array([np.random.permutation(base_dc_assignment) for c in range(num_customers)])"
   ]
  },
  {
   "cell_type": "code",
   "execution_count": 317,
   "metadata": {},
   "outputs": [
    {
     "data": {
      "text/plain": [
       "0"
      ]
     },
     "execution_count": 317,
     "metadata": {},
     "output_type": "execute_result"
    }
   ],
   "source": [
    "_dcs_per_customer_array = np.array([[1,1,1,0],[1,0,0,1]])\n",
    "_chosen_customer=_dcs_per_customer_array[1,:]\n",
    "np.random.choice(np.argwhere(_chosen_customer>0).reshape(-1))#TODO aqui quede choose one of the indexes where customer is > 0\n",
    "#dcs_per_customer_array[0,dcs_per_customer_array[0]>0]"
   ]
  },
  {
   "cell_type": "code",
   "execution_count": 127,
   "metadata": {},
   "outputs": [
    {
     "data": {
      "text/plain": [
       "array([[ 97., 121.],\n",
       "       [ 92., 124.],\n",
       "       [113., 136.]])"
      ]
     },
     "execution_count": 127,
     "metadata": {},
     "output_type": "execute_result"
    }
   ],
   "source": [
    "# Modelling demand\n",
    "means = np.random.poisson(demand_mean,size=num_customers)\n",
    "means\n",
    "\n",
    "#Very simple demand generator: customers have one mean and all products are sampled from it.\n",
    "#Random demand vector generator. in the future may change covariance matrix to reflect product \n",
    "np.floor(np.random.multivariate_normal(means,np.eye(num_customers)*demand_var,size=num_commodities)) # Resulting size: (commodities,customers)"
   ]
  },
  {
   "cell_type": "code",
   "execution_count": 229,
   "metadata": {},
   "outputs": [
    {
     "data": {
      "text/plain": [
       "array([[[200.00402398,  96.81730181,  58.38262628],\n",
       "        [196.83886843, 100.41102918,  51.20075883],\n",
       "        [199.49630971,  98.02718883,  47.26719603],\n",
       "        [199.47382129, 100.88185469,  53.53342632],\n",
       "        [208.12445419, 109.92275442,  51.07862697]],\n",
       "\n",
       "       [[204.15517276,  98.23782582,  48.54499151],\n",
       "        [203.20970959, 102.02309611,  44.79162657],\n",
       "        [193.14013072, 103.6889355 ,  56.4321421 ],\n",
       "        [195.62351336, 101.394757  ,  54.06117466],\n",
       "        [198.24800218,  97.73676869,  51.2245593 ]],\n",
       "\n",
       "       [[196.39458263,  97.64349937,  50.78856558],\n",
       "        [202.83336028,  99.88172952,  52.9464048 ],\n",
       "        [203.51317969, 100.29338851,  55.09101657],\n",
       "        [203.83407327,  99.52668678,  54.58792579],\n",
       "        [202.83378185,  89.89156243,  57.58215397]],\n",
       "\n",
       "       [[199.04487713, 105.39306329,  55.07365675],\n",
       "        [205.34228049,  98.63024875,  44.27647078],\n",
       "        [196.51044038, 103.01688996,  54.7772901 ],\n",
       "        [209.67044876, 100.52245345,  52.52831953],\n",
       "        [201.30418996,  95.78757438,  53.4876657 ]],\n",
       "\n",
       "       [[198.95800762,  85.33427918,  47.20434093],\n",
       "        [211.93994187, 104.75378189,  48.2830571 ],\n",
       "        [195.23112596,  97.4871078 ,  48.11500376],\n",
       "        [192.5396607 ,  97.37384666,  52.7118842 ],\n",
       "        [195.05175684, 109.49048365,  46.23429879]],\n",
       "\n",
       "       [[202.6319028 ,  97.63595358,  53.55338578],\n",
       "        [198.52542757,  97.74479019,  43.36596071],\n",
       "        [201.82138934,  96.38302211,  51.7060747 ],\n",
       "        [201.34294827, 101.10026698,  49.82181884],\n",
       "        [198.12108347, 101.32861526,  50.499332  ]],\n",
       "\n",
       "       [[206.41213792, 104.32380929,  46.18920488],\n",
       "        [197.80470616, 108.26363993,  53.03204694],\n",
       "        [203.92543321,  98.13832521,  54.88223225],\n",
       "        [204.9622096 ,  98.66128303,  64.39751587],\n",
       "        [201.2919301 , 100.22397074,  50.06751784]],\n",
       "\n",
       "       [[198.56139544,  95.87274671,  48.86582946],\n",
       "        [194.68169849, 102.94140657,  52.38762002],\n",
       "        [198.11134078, 100.81558735,  44.17288809],\n",
       "        [199.9881775 ,  95.556034  ,  45.23163975],\n",
       "        [203.88782158, 102.75588415,  53.0602535 ]],\n",
       "\n",
       "       [[198.20099846, 101.14972465,  43.72920394],\n",
       "        [200.36062856,  97.14029889,  50.99446109],\n",
       "        [198.1438196 ,  97.21785429,  51.03524808],\n",
       "        [195.3254039 ,  99.53869055,  53.32383552],\n",
       "        [200.9818415 , 102.95677635,  59.83687144]],\n",
       "\n",
       "       [[206.03228295,  95.70264757,  46.41515703],\n",
       "        [208.08562779, 102.59797147,  50.73558456],\n",
       "        [203.59418135,  99.87964887,  53.97911513],\n",
       "        [205.98311288,  98.92631445,  46.69291683],\n",
       "        [196.70613481, 100.86274499,  48.37022502]]])"
      ]
     },
     "execution_count": 229,
     "metadata": {},
     "output_type": "execute_result"
    }
   ],
   "source": [
    "np.random.multivariate_normal([200,100,50],np.eye(3)*demand_var,size=(10,5))"
   ]
  },
  {
   "cell_type": "code",
   "execution_count": 267,
   "metadata": {},
   "outputs": [
    {
     "data": {
      "text/plain": [
       "array([103, 122])"
      ]
     },
     "execution_count": 267,
     "metadata": {},
     "output_type": "execute_result"
    },
    {
     "data": {
      "text/plain": [
       "array([0, 1, 1])"
      ]
     },
     "execution_count": 267,
     "metadata": {},
     "output_type": "execute_result"
    },
    {
     "data": {
      "text/plain": [
       "array([[111.37752438, 122.7648287 , 127.51165566],\n",
       "       [108.48000025, 129.9224677 , 118.53178941],\n",
       "       [ 98.27429983, 121.65975885, 124.86374497]])"
      ]
     },
     "execution_count": 267,
     "metadata": {},
     "output_type": "execute_result"
    }
   ],
   "source": [
    "#order generation\n",
    "chosen_customers = np.random.choice(np.arange(num_customers),size=orders_per_day,replace=True)\n",
    "\n",
    "# choose the customers means.\n",
    "means\n",
    "chosen_customers\n",
    "order_means = means[chosen_customers]\n",
    "np.random.multivariate_normal(order_means,np.eye(orders_per_day)*demand_var,size=num_commodities) #shape (num_commodities,num_orders) # You could compute this beforehand for performance, but let's do it on demand for now."
   ]
  },
  {
   "cell_type": "code",
   "execution_count": 228,
   "metadata": {},
   "outputs": [
    {
     "data": {
      "text/plain": [
       "array([[0.37870815, 0.28227401, 0.33901785],\n",
       "       [0.37936902, 0.50790021, 0.11273077],\n",
       "       [0.29415686, 0.21947477, 0.48636837]])"
      ]
     },
     "execution_count": 228,
     "metadata": {},
     "output_type": "execute_result"
    }
   ],
   "source": [
    "np.random.dirichlet([5.]*num_dcs,size=num_commodities)#shape (num_commodities, num_dcs)"
   ]
  },
  {
   "cell_type": "code",
   "execution_count": 318,
   "metadata": {},
   "outputs": [
    {
     "name": "stdout",
     "output_type": "stream",
     "text": [
      "0\n",
      "1\n",
      "1\n"
     ]
    }
   ],
   "source": [
    "for ci in np.array([0,1,1]):\n",
    "    print(ci)"
   ]
  },
  {
   "cell_type": "code",
   "execution_count": 334,
   "metadata": {},
   "outputs": [
    {
     "data": {
      "text/plain": [
       "{'1': [3, 5, 0]}"
      ]
     },
     "execution_count": 334,
     "metadata": {},
     "output_type": "execute_result"
    }
   ],
   "source": [
    "a = {}\n",
    "\n",
    "a.setdefault(\"1\",[0]*num_commodities)[1]=5\n",
    "a.setdefault(\"1\",[0]*num_commodities)[0]=3\n",
    "a"
   ]
  },
  {
   "cell_type": "code",
   "execution_count": 353,
   "metadata": {},
   "outputs": [
    {
     "data": {
      "text/plain": [
       "array([15, 25])"
      ]
     },
     "execution_count": 353,
     "metadata": {},
     "output_type": "execute_result"
    },
    {
     "data": {
      "text/plain": [
       "array([[3, 6],\n",
       "       [3, 6],\n",
       "       [3, 6],\n",
       "       [3, 6]])"
      ]
     },
     "execution_count": 353,
     "metadata": {},
     "output_type": "execute_result"
    },
    {
     "data": {
      "text/plain": [
       "array([[3, 6],\n",
       "       [3, 6],\n",
       "       [3, 6],\n",
       "       [3, 6]])"
      ]
     },
     "execution_count": 353,
     "metadata": {},
     "output_type": "execute_result"
    }
   ],
   "source": [
    "ndcs=4\n",
    "total_demand= np.array([15,25])\n",
    "even = total_demand//ndcs\n",
    "total_demand\n",
    "np.array([even]*ndcs)#.reshape(-1,1)\n",
    "np.array([even]*ndcs).reshape(ndcs,-1)"
   ]
  },
  {
   "cell_type": "code",
   "execution_count": 358,
   "metadata": {},
   "outputs": [
    {
     "data": {
      "text/plain": [
       "25"
      ]
     },
     "execution_count": 358,
     "metadata": {},
     "output_type": "execute_result"
    },
    {
     "data": {
      "text/plain": [
       "(4,)"
      ]
     },
     "execution_count": 358,
     "metadata": {},
     "output_type": "execute_result"
    },
    {
     "data": {
      "text/plain": [
       "(4, 1)"
      ]
     },
     "execution_count": 358,
     "metadata": {},
     "output_type": "execute_result"
    },
    {
     "data": {
      "text/plain": [
       "(4, 1)"
      ]
     },
     "execution_count": 358,
     "metadata": {},
     "output_type": "execute_result"
    }
   ],
   "source": [
    "ndcs=4\n",
    "total_demand= 25\n",
    "even = total_demand//ndcs\n",
    "total_demand\n",
    "np.array([even]*ndcs).shape#.reshape(-1,1)\n",
    "np.array([even]*ndcs).reshape(ndcs,-1).shape\n",
    "np.array([even]*ndcs).reshape(-1,1).shape"
   ]
  }
 ],
 "metadata": {
  "kernelspec": {
   "display_name": "Python 3",
   "language": "python",
   "name": "python3"
  },
  "language_info": {
   "codemirror_mode": {
    "name": "ipython",
    "version": 3
   },
   "file_extension": ".py",
   "mimetype": "text/x-python",
   "name": "python",
   "nbconvert_exporter": "python",
   "pygments_lexer": "ipython3",
   "version": "3.8.2"
  }
 },
 "nbformat": 4,
 "nbformat_minor": 4
}
