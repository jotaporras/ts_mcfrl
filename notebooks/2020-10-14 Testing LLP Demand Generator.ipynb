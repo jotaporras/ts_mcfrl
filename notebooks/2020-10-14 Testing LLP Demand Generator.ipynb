{
 "cells": [
  {
   "cell_type": "code",
   "execution_count": 10,
   "metadata": {},
   "outputs": [],
   "source": [
    "import scipy\n",
    "import scipy.stats\n",
    "import numpy as np\n",
    "from IPython.core.interactiveshell import InteractiveShell\n",
    "# InteractiveShell.ast_node_interactivity = \"last_expr\" # Default jupyter behavior\n",
    "InteractiveShell.ast_node_interactivity = \"all\" # All expressions are shown."
   ]
  },
  {
   "cell_type": "code",
   "execution_count": 162,
   "metadata": {},
   "outputs": [
    {
     "name": "stdout",
     "output_type": "stream",
     "text": [
      "covar\n"
     ]
    },
    {
     "data": {
      "text/plain": [
       "array([[ 1.0969172 , -0.39004911],\n",
       "       [-0.39004911,  0.416943  ]])"
      ]
     },
     "execution_count": 162,
     "metadata": {},
     "output_type": "execute_result"
    },
    {
     "name": "stdout",
     "output_type": "stream",
     "text": [
      "multivariate_normal_x\n"
     ]
    },
    {
     "data": {
      "text/plain": [
       "array([[-0.60852732,  0.28813711]])"
      ]
     },
     "execution_count": 162,
     "metadata": {},
     "output_type": "execute_result"
    },
    {
     "name": "stdout",
     "output_type": "stream",
     "text": [
      "px\n"
     ]
    },
    {
     "data": {
      "text/plain": [
       "array([[0.28061255, 0.67228522]])"
      ]
     },
     "execution_count": 162,
     "metadata": {},
     "output_type": "execute_result"
    },
    {
     "name": "stdout",
     "output_type": "stream",
     "text": [
      "pz*(1-pz)\n"
     ]
    },
    {
     "data": {
      "text/plain": [
       "array([0.09  , 0.0475])"
      ]
     },
     "execution_count": 162,
     "metadata": {},
     "output_type": "execute_result"
    },
    {
     "name": "stdout",
     "output_type": "stream",
     "text": [
      "vx\n"
     ]
    },
    {
     "data": {
      "text/plain": [
       "array([[ 4., 23.]])"
      ]
     },
     "execution_count": 162,
     "metadata": {},
     "output_type": "execute_result"
    },
    {
     "data": {
      "text/plain": [
       "array([[0.28061255, 0.67228522]])"
      ]
     },
     "execution_count": 162,
     "metadata": {},
     "output_type": "execute_result"
    },
    {
     "data": {
      "text/plain": [
       "<matplotlib.axes._subplots.AxesSubplot at 0x7fdcdeaf6090>"
      ]
     },
     "execution_count": 162,
     "metadata": {},
     "output_type": "execute_result"
    },
    {
     "data": {
      "image/png": "[encoded data removed]",
      "text/plain": [
       "<Figure size 432x288 with 1 Axes>"
      ]
     },
     "metadata": {
      "needs_background": "light"
     },
     "output_type": "display_data"
    }
   ],
   "source": [
    "K = 2\n",
    "means = np.array((10.0,20.0))\n",
    "####\n",
    "\n",
    "# Generating covariance matrix with inverse Wishart distribution. What does that parameter do?\n",
    "covar = scipy.stats.invwishart(K,np.ones(K)).rvs(size=1)\n",
    "\n",
    "# Sampling X from a multivariate normal with the covariance from Wishart.\n",
    "# It's the demand for each commodity at each sample\n",
    "multivariate_normal_x = np.random.multivariate_normal(np.zeros(means.shape), covar,size=1)\n",
    "\n",
    "# Extract the probability density of the sampled values. Is the sqrt(diag(covar)) arbitrary?\n",
    "px = scipy.stats.norm(0,np.sqrt(np.diagonal(covar))).cdf(multivariate_normal_x)\n",
    "\n",
    "\n",
    "pz = 1/means\n",
    "vx = scipy.stats.geom(p=pz*(1-pz)).ppf(px)\n",
    "\n",
    "print(\"covar\")\n",
    "covar\n",
    "print(\"multivariate_normal_x\")\n",
    "multivariate_normal_x\n",
    "print(\"px\")\n",
    "px\n",
    "print(\"pz*(1-pz)\")\n",
    "pz*(1-pz)\n",
    "print(\"vx\")\n",
    "vx\n",
    "px\n",
    "sns.scatterplot(vx[:,0],vx[:,1])"
   ]
  },
  {
   "cell_type": "code",
   "execution_count": 168,
   "metadata": {},
   "outputs": [
    {
     "data": {
      "text/plain": [
       "(10, 2, 2)"
      ]
     },
     "execution_count": 168,
     "metadata": {},
     "output_type": "execute_result"
    }
   ],
   "source": [
    "scipy.stats.invwishart(K,np.ones(K)).rvs(size=10).shape"
   ]
  },
  {
   "cell_type": "code",
   "execution_count": 101,
   "metadata": {},
   "outputs": [
    {
     "data": {
      "text/plain": [
       "10000"
      ]
     },
     "execution_count": 101,
     "metadata": {},
     "output_type": "execute_result"
    },
    {
     "data": {
      "text/plain": [
       "array([0.0315921 , 0.06039235])"
      ]
     },
     "execution_count": 101,
     "metadata": {},
     "output_type": "execute_result"
    },
    {
     "data": {
      "text/plain": [
       "array([0.1 , 0.05])"
      ]
     },
     "execution_count": 101,
     "metadata": {},
     "output_type": "execute_result"
    },
    {
     "data": {
      "text/plain": [
       "array([[1., 2.],\n",
       "       [3., 7.],\n",
       "       [4., 3.],\n",
       "       ...,\n",
       "       [4., 9.],\n",
       "       [3., 5.],\n",
       "       [4., 9.]])"
      ]
     },
     "execution_count": 101,
     "metadata": {},
     "output_type": "execute_result"
    }
   ],
   "source": [
    "px.shape[0]\n",
    "px[0,:]\n",
    "pz\n",
    "r = scipy.stats.geom(p=pz*(1-pz)).ppf(px)\n",
    "import seaborn as sns\n",
    "#sns.scatterplot(r[:,0],r[:,1])# not how i want it.\n",
    "r"
   ]
  },
  {
   "cell_type": "code",
   "execution_count": 98,
   "metadata": {},
   "outputs": [
    {
     "data": {
      "text/plain": [
       "array([[ 8., 12.],\n",
       "       [ 8.,  4.],\n",
       "       [ 6., 12.],\n",
       "       [ 2.,  7.],\n",
       "       [ 5.,  3.],\n",
       "       [ 8., 14.],\n",
       "       [ 6.,  5.],\n",
       "       [ 2.,  9.],\n",
       "       [ 2., 14.],\n",
       "       [ 1.,  7.]])"
      ]
     },
     "execution_count": 98,
     "metadata": {},
     "output_type": "execute_result"
    }
   ],
   "source": []
  }
 ],
 "metadata": {
  "kernelspec": {
   "display_name": "Python 3",
   "language": "python",
   "name": "python3"
  },
  "language_info": {
   "codemirror_mode": {
    "name": "ipython",
    "version": 3
   },
   "file_extension": ".py",
   "mimetype": "text/x-python",
   "name": "python",
   "nbconvert_exporter": "python",
   "pygments_lexer": "ipython3",
   "version": "3.7.6"
  }
 },
 "nbformat": 4,
 "nbformat_minor": 4
}
