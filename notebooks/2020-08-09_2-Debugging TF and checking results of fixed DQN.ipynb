{
 "cells": [
  {
   "cell_type": "markdown",
   "metadata": {},
   "source": [
    "# Debug TF, fix DQN and check 1000 ep test.\n",
    "```\n",
    "    num_dcs = 10\n",
    "    num_customers = 2\n",
    "    num_commodities = 4\n",
    "    orders_per_day = 2\n",
    "    dcs_per_customer = 3\n",
    "    demand_mean = 100\n",
    "    demand_var = 20\n",
    "\n",
    "    num_steps = 50\n",
    "    num_episodes = 1000\n",
    "```\n",
    "Commit: 78c4b3c393072d593abd98227b70f67cdc29877d\n"
   ]
  },
  {
   "cell_type": "code",
   "execution_count": 2,
   "metadata": {},
   "outputs": [],
   "source": [
    "import tensorflow.compat.v1 as tf\n",
    "import numpy as np"
   ]
  },
  {
   "cell_type": "code",
   "execution_count": 3,
   "metadata": {},
   "outputs": [
    {
     "data": {
      "text/plain": [
       "TensorShape([1, 10])"
      ]
     },
     "execution_count": 3,
     "metadata": {},
     "output_type": "execute_result"
    }
   ],
   "source": [
    "tf.one_hot(tf.constant([6]),depth=10).shape"
   ]
  },
  {
   "cell_type": "code",
   "execution_count": 4,
   "metadata": {},
   "outputs": [
    {
     "name": "stdout",
     "output_type": "stream",
     "text": [
      "(3, 3)\n",
      "<dtype: 'float32'>\n",
      "<dtype: 'float32'>\n",
      "(3,)\n",
      "tf.Tensor(75.0, shape=(), dtype=float32)\n",
      "tf.Tensor(25.0, shape=(), dtype=float32)\n"
     ]
    }
   ],
   "source": [
    "tf.reset_default_graph()\n",
    "q_state=tf.dtypes.cast(tf.constant(np.array([[5.0,10.0,25.0],[5.0,10.0,25.0],[5.0,10.0,25.0]])),dtype=tf.float32)\n",
    "print(q_state.shape)\n",
    "print(q_state.dtype)\n",
    "action = tf.dtypes.cast(tf.transpose(tf.one_hot(tf.constant(2),depth=3)),dtype=tf.float32)\n",
    "print(action.dtype)\n",
    "print(action.shape)\n",
    "\n",
    "tf.multiply(q_state,action)\n",
    "\n",
    "q_action = tf.reduce_sum(tf.multiply(q_state,action))\n",
    "print(q_action)\n",
    "\n",
    "target_in=tf.constant(100.0)\n",
    "loss = target_in-q_action\n",
    "print(loss)"
   ]
  },
  {
   "cell_type": "code",
   "execution_count": 5,
   "metadata": {},
   "outputs": [
    {
     "data": {
      "text/html": [
       "<div>\n",
       "<style scoped>\n",
       "    .dataframe tbody tr th:only-of-type {\n",
       "        vertical-align: middle;\n",
       "    }\n",
       "\n",
       "    .dataframe tbody tr th {\n",
       "        vertical-align: top;\n",
       "    }\n",
       "\n",
       "    .dataframe thead th {\n",
       "        text-align: right;\n",
       "    }\n",
       "</style>\n",
       "<table border=\"1\" class=\"dataframe\">\n",
       "  <thead>\n",
       "    <tr style=\"text-align: right;\">\n",
       "      <th></th>\n",
       "      <th>is_m</th>\n",
       "      <th>0</th>\n",
       "    </tr>\n",
       "  </thead>\n",
       "  <tbody>\n",
       "    <tr>\n",
       "      <th>0</th>\n",
       "      <td>False</td>\n",
       "      <td>10</td>\n",
       "    </tr>\n",
       "    <tr>\n",
       "      <th>1</th>\n",
       "      <td>True</td>\n",
       "      <td>174</td>\n",
       "    </tr>\n",
       "  </tbody>\n",
       "</table>\n",
       "</div>"
      ],
      "text/plain": [
       "    is_m    0\n",
       "0  False   10\n",
       "1   True  174"
      ]
     },
     "execution_count": 5,
     "metadata": {},
     "output_type": "execute_result"
    }
   ],
   "source": [
    "import pandas as pd\n",
    "detail=pd.read_csv('/Users/aleph/Documents/jota/tesis/ts_mcfrl/python/data/results/two_customers_dqn_debug_sample/ep_0/movement_detail_report.csv')\n",
    "def add_is_m(df):\n",
    "    df['unit_cost']=(df.customer_cost/df.customer_units).fillna(0)\n",
    "    df['is_m'] = df.unit_cost==1000\n",
    "    return df\n",
    "detail=add_is_m(detail)\n",
    "detail.query('customer_cost>0').groupby('is_m').size().reset_index()"
   ]
  },
  {
   "cell_type": "markdown",
   "metadata": {},
   "source": [
    "NOW WE TALKING."
   ]
  },
  {
   "cell_type": "markdown",
   "metadata": {},
   "source": [
    "# 100 EP TEST"
   ]
  },
  {
   "cell_type": "code",
   "execution_count": 6,
   "metadata": {},
   "outputs": [
    {
     "data": {
      "text/html": [
       "<div>\n",
       "<style scoped>\n",
       "    .dataframe tbody tr th:only-of-type {\n",
       "        vertical-align: middle;\n",
       "    }\n",
       "\n",
       "    .dataframe tbody tr th {\n",
       "        vertical-align: top;\n",
       "    }\n",
       "\n",
       "    .dataframe thead th {\n",
       "        text-align: right;\n",
       "    }\n",
       "</style>\n",
       "<table border=\"1\" class=\"dataframe\">\n",
       "  <thead>\n",
       "    <tr style=\"text-align: right;\">\n",
       "      <th></th>\n",
       "      <th>is_m</th>\n",
       "      <th>0</th>\n",
       "    </tr>\n",
       "  </thead>\n",
       "  <tbody>\n",
       "    <tr>\n",
       "      <th>0</th>\n",
       "      <td>True</td>\n",
       "      <td>184</td>\n",
       "    </tr>\n",
       "  </tbody>\n",
       "</table>\n",
       "</div>"
      ],
      "text/plain": [
       "   is_m    0\n",
       "0  True  184"
      ]
     },
     "execution_count": 6,
     "metadata": {},
     "output_type": "execute_result"
    }
   ],
   "source": [
    "detail_100=pd.read_csv('/Users/aleph/Documents/jota/tesis/ts_mcfrl/python/data/results/two_customers_dqn_debug_sample/ep_99/movement_detail_report.csv')\n",
    "detail_100=add_is_m(detail_100)\n",
    "detail_100.query('customer_cost>0').groupby('is_m').size().reset_index()"
   ]
  },
  {
   "cell_type": "markdown",
   "metadata": {},
   "source": [
    "Checking what decisions are being made in the end"
   ]
  },
  {
   "cell_type": "code",
   "execution_count": 7,
   "metadata": {},
   "outputs": [
    {
     "name": "stdout",
     "output_type": "stream",
     "text": [
      "choices at ep 1\n"
     ]
    },
    {
     "data": {
      "text/html": [
       "<div>\n",
       "<style scoped>\n",
       "    .dataframe tbody tr th:only-of-type {\n",
       "        vertical-align: middle;\n",
       "    }\n",
       "\n",
       "    .dataframe tbody tr th {\n",
       "        vertical-align: top;\n",
       "    }\n",
       "\n",
       "    .dataframe thead th {\n",
       "        text-align: right;\n",
       "    }\n",
       "</style>\n",
       "<table border=\"1\" class=\"dataframe\">\n",
       "  <thead>\n",
       "    <tr style=\"text-align: right;\">\n",
       "      <th></th>\n",
       "      <th>source_name</th>\n",
       "      <th>destination_name</th>\n",
       "      <th>is_m</th>\n",
       "      <th>0</th>\n",
       "    </tr>\n",
       "  </thead>\n",
       "  <tbody>\n",
       "    <tr>\n",
       "      <th>0</th>\n",
       "      <td>dcs_1</td>\n",
       "      <td>c_10</td>\n",
       "      <td>False</td>\n",
       "      <td>2</td>\n",
       "    </tr>\n",
       "    <tr>\n",
       "      <th>2</th>\n",
       "      <td>dcs_3</td>\n",
       "      <td>c_10</td>\n",
       "      <td>True</td>\n",
       "      <td>2</td>\n",
       "    </tr>\n",
       "    <tr>\n",
       "      <th>3</th>\n",
       "      <td>dcs_4</td>\n",
       "      <td>c_10</td>\n",
       "      <td>False</td>\n",
       "      <td>2</td>\n",
       "    </tr>\n",
       "    <tr>\n",
       "      <th>5</th>\n",
       "      <td>dcs_5</td>\n",
       "      <td>c_10</td>\n",
       "      <td>True</td>\n",
       "      <td>80</td>\n",
       "    </tr>\n",
       "    <tr>\n",
       "      <th>7</th>\n",
       "      <td>dcs_6</td>\n",
       "      <td>c_10</td>\n",
       "      <td>False</td>\n",
       "      <td>2</td>\n",
       "    </tr>\n",
       "    <tr>\n",
       "      <th>8</th>\n",
       "      <td>dcs_8</td>\n",
       "      <td>c_10</td>\n",
       "      <td>True</td>\n",
       "      <td>2</td>\n",
       "    </tr>\n",
       "    <tr>\n",
       "      <th>9</th>\n",
       "      <td>dcs_9</td>\n",
       "      <td>c_10</td>\n",
       "      <td>True</td>\n",
       "      <td>2</td>\n",
       "    </tr>\n",
       "    <tr>\n",
       "      <th>1</th>\n",
       "      <td>dcs_1</td>\n",
       "      <td>c_11</td>\n",
       "      <td>True</td>\n",
       "      <td>2</td>\n",
       "    </tr>\n",
       "    <tr>\n",
       "      <th>4</th>\n",
       "      <td>dcs_4</td>\n",
       "      <td>c_11</td>\n",
       "      <td>False</td>\n",
       "      <td>4</td>\n",
       "    </tr>\n",
       "    <tr>\n",
       "      <th>6</th>\n",
       "      <td>dcs_5</td>\n",
       "      <td>c_11</td>\n",
       "      <td>True</td>\n",
       "      <td>86</td>\n",
       "    </tr>\n",
       "  </tbody>\n",
       "</table>\n",
       "</div>"
      ],
      "text/plain": [
       "  source_name destination_name   is_m   0\n",
       "0       dcs_1             c_10  False   2\n",
       "2       dcs_3             c_10   True   2\n",
       "3       dcs_4             c_10  False   2\n",
       "5       dcs_5             c_10   True  80\n",
       "7       dcs_6             c_10  False   2\n",
       "8       dcs_8             c_10   True   2\n",
       "9       dcs_9             c_10   True   2\n",
       "1       dcs_1             c_11   True   2\n",
       "4       dcs_4             c_11  False   4\n",
       "6       dcs_5             c_11   True  86"
      ]
     },
     "metadata": {},
     "output_type": "display_data"
    },
    {
     "name": "stdout",
     "output_type": "stream",
     "text": [
      "choices at ep 100\n"
     ]
    },
    {
     "data": {
      "text/html": [
       "<div>\n",
       "<style scoped>\n",
       "    .dataframe tbody tr th:only-of-type {\n",
       "        vertical-align: middle;\n",
       "    }\n",
       "\n",
       "    .dataframe tbody tr th {\n",
       "        vertical-align: top;\n",
       "    }\n",
       "\n",
       "    .dataframe thead th {\n",
       "        text-align: right;\n",
       "    }\n",
       "</style>\n",
       "<table border=\"1\" class=\"dataframe\">\n",
       "  <thead>\n",
       "    <tr style=\"text-align: right;\">\n",
       "      <th></th>\n",
       "      <th>source_name</th>\n",
       "      <th>destination_name</th>\n",
       "      <th>is_m</th>\n",
       "      <th>0</th>\n",
       "    </tr>\n",
       "  </thead>\n",
       "  <tbody>\n",
       "    <tr>\n",
       "      <th>0</th>\n",
       "      <td>dcs_5</td>\n",
       "      <td>c_10</td>\n",
       "      <td>True</td>\n",
       "      <td>88</td>\n",
       "    </tr>\n",
       "    <tr>\n",
       "      <th>2</th>\n",
       "      <td>dcs_7</td>\n",
       "      <td>c_10</td>\n",
       "      <td>True</td>\n",
       "      <td>2</td>\n",
       "    </tr>\n",
       "    <tr>\n",
       "      <th>3</th>\n",
       "      <td>dcs_8</td>\n",
       "      <td>c_10</td>\n",
       "      <td>True</td>\n",
       "      <td>2</td>\n",
       "    </tr>\n",
       "    <tr>\n",
       "      <th>1</th>\n",
       "      <td>dcs_5</td>\n",
       "      <td>c_11</td>\n",
       "      <td>True</td>\n",
       "      <td>92</td>\n",
       "    </tr>\n",
       "  </tbody>\n",
       "</table>\n",
       "</div>"
      ],
      "text/plain": [
       "  source_name destination_name  is_m   0\n",
       "0       dcs_5             c_10  True  88\n",
       "2       dcs_7             c_10  True   2\n",
       "3       dcs_8             c_10  True   2\n",
       "1       dcs_5             c_11  True  92"
      ]
     },
     "metadata": {},
     "output_type": "display_data"
    }
   ],
   "source": [
    "print(\"choices at ep 1\")\n",
    "display(detail.query('customer_cost>0').groupby([\"source_name\",'destination_name','is_m']).size().reset_index().sort_values(['destination_name']))\n",
    "print(\"choices at ep 100\")\n",
    "display(detail_100.query('customer_cost>0').groupby([\"source_name\",'destination_name','is_m']).size().reset_index().sort_values(['destination_name']))"
   ]
  },
  {
   "cell_type": "markdown",
   "metadata": {},
   "source": [
    "Now it seems the network understood the big Ms better, but still rewards are really big and i don't know if they reflect that \n",
    "\n",
    "Customer cost is down by 1 million cost units"
   ]
  },
  {
   "cell_type": "code",
   "execution_count": 8,
   "metadata": {},
   "outputs": [
    {
     "name": "stdout",
     "output_type": "stream",
     "text": [
      "86115500\n",
      "91822000\n"
     ]
    }
   ],
   "source": [
    "print(detail.customer_cost.sum())\n",
    "print(detail_100.customer_cost.sum())"
   ]
  },
  {
   "cell_type": "markdown",
   "metadata": {},
   "source": [
    "Total costs also seem to be down by 60 million. Check and see why prints of total sum of rewards are so similar. Maybe they are cumulative?"
   ]
  },
  {
   "cell_type": "code",
   "execution_count": 9,
   "metadata": {},
   "outputs": [
    {
     "name": "stdout",
     "output_type": "stream",
     "text": [
      "92474370\n",
      "92721690\n"
     ]
    }
   ],
   "source": [
    "summary_1=pd.read_csv(\"/Users/aleph/Documents/jota/tesis/ts_mcfrl/python/data/results/two_customers_dqn_debug_sample/ep_11/summary_movement_report.csv\")\n",
    "summary_100=pd.read_csv(\"/Users/aleph/Documents/jota/tesis/ts_mcfrl/python/data/results/two_customers_dqn_debug_sample/ep_99/summary_movement_report.csv\")\n",
    "print(summary_1.total_cost.sum())\n",
    "print(summary_100.total_cost.sum())"
   ]
  },
  {
   "cell_type": "markdown",
   "metadata": {},
   "source": [
    "Plot cost across EPS:"
   ]
  },
  {
   "cell_type": "code",
   "execution_count": 10,
   "metadata": {},
   "outputs": [],
   "source": [
    "ep_costs=[]\n",
    "num_eps=1000\n",
    "for i in range(1,num_eps):\n",
    "    summary_i = pd.read_csv(f\"/Users/aleph/Documents/jota/tesis/ts_mcfrl/python/data/results/two_customers_dqn_debug_sample/ep_{i}/summary_movement_report.csv\")\n",
    "    ep_cost=summary_i.total_cost.sum()\n",
    "    ep_costs.append(ep_cost)"
   ]
  },
  {
   "cell_type": "code",
   "execution_count": 11,
   "metadata": {},
   "outputs": [
    {
     "data": {
      "text/plain": [
       "Text(0.5, 1.0, 'DQN 1000 Episodes')"
      ]
     },
     "execution_count": 11,
     "metadata": {},
     "output_type": "execute_result"
    },
    {
     "data": {
      "image/png": "[encoded data removed]",
      "text/plain": [
       "<Figure size 432x288 with 1 Axes>"
      ]
     },
     "metadata": {
      "image/png": {
       "height": 263,
       "width": 378
      },
      "needs_background": "light"
     },
     "output_type": "display_data"
    }
   ],
   "source": [
    "import seaborn as sns\n",
    "%config InlineBackend.figure_format = \"retina\"\n",
    "sns.lineplot(range(1,num_eps),ep_costs).set_title(\"DQN 1000 Episodes\")"
   ]
  },
  {
   "cell_type": "code",
   "execution_count": 12,
   "metadata": {},
   "outputs": [
    {
     "data": {
      "text/html": [
       "<div>\n",
       "<style scoped>\n",
       "    .dataframe tbody tr th:only-of-type {\n",
       "        vertical-align: middle;\n",
       "    }\n",
       "\n",
       "    .dataframe tbody tr th {\n",
       "        vertical-align: top;\n",
       "    }\n",
       "\n",
       "    .dataframe thead th {\n",
       "        text-align: right;\n",
       "    }\n",
       "</style>\n",
       "<table border=\"1\" class=\"dataframe\">\n",
       "  <thead>\n",
       "    <tr style=\"text-align: right;\">\n",
       "      <th></th>\n",
       "      <th>index</th>\n",
       "      <th>0</th>\n",
       "    </tr>\n",
       "  </thead>\n",
       "  <tbody>\n",
       "    <tr>\n",
       "      <th>0</th>\n",
       "      <td>count</td>\n",
       "      <td>9.990000e+02</td>\n",
       "    </tr>\n",
       "    <tr>\n",
       "      <th>1</th>\n",
       "      <td>mean</td>\n",
       "      <td>9.261236e+07</td>\n",
       "    </tr>\n",
       "    <tr>\n",
       "      <th>2</th>\n",
       "      <td>std</td>\n",
       "      <td>4.661077e+05</td>\n",
       "    </tr>\n",
       "    <tr>\n",
       "      <th>3</th>\n",
       "      <td>min</td>\n",
       "      <td>8.903343e+07</td>\n",
       "    </tr>\n",
       "    <tr>\n",
       "      <th>4</th>\n",
       "      <td>25%</td>\n",
       "      <td>9.259173e+07</td>\n",
       "    </tr>\n",
       "    <tr>\n",
       "      <th>5</th>\n",
       "      <td>50%</td>\n",
       "      <td>9.270331e+07</td>\n",
       "    </tr>\n",
       "    <tr>\n",
       "      <th>6</th>\n",
       "      <td>75%</td>\n",
       "      <td>9.280606e+07</td>\n",
       "    </tr>\n",
       "    <tr>\n",
       "      <th>7</th>\n",
       "      <td>max</td>\n",
       "      <td>9.311525e+07</td>\n",
       "    </tr>\n",
       "  </tbody>\n",
       "</table>\n",
       "</div>"
      ],
      "text/plain": [
       "   index             0\n",
       "0  count  9.990000e+02\n",
       "1   mean  9.261236e+07\n",
       "2    std  4.661077e+05\n",
       "3    min  8.903343e+07\n",
       "4    25%  9.259173e+07\n",
       "5    50%  9.270331e+07\n",
       "6    75%  9.280606e+07\n",
       "7    max  9.311525e+07"
      ]
     },
     "metadata": {},
     "output_type": "display_data"
    },
    {
     "data": {
      "text/html": [
       "<div>\n",
       "<style scoped>\n",
       "    .dataframe tbody tr th:only-of-type {\n",
       "        vertical-align: middle;\n",
       "    }\n",
       "\n",
       "    .dataframe tbody tr th {\n",
       "        vertical-align: top;\n",
       "    }\n",
       "\n",
       "    .dataframe thead th {\n",
       "        text-align: right;\n",
       "    }\n",
       "</style>\n",
       "<table border=\"1\" class=\"dataframe\">\n",
       "  <thead>\n",
       "    <tr style=\"text-align: right;\">\n",
       "      <th></th>\n",
       "      <th>index</th>\n",
       "      <th>0</th>\n",
       "    </tr>\n",
       "  </thead>\n",
       "  <tbody>\n",
       "    <tr>\n",
       "      <th>0</th>\n",
       "      <td>0</td>\n",
       "      <td>92084010</td>\n",
       "    </tr>\n",
       "    <tr>\n",
       "      <th>1</th>\n",
       "      <td>1</td>\n",
       "      <td>92336950</td>\n",
       "    </tr>\n",
       "    <tr>\n",
       "      <th>2</th>\n",
       "      <td>2</td>\n",
       "      <td>90611900</td>\n",
       "    </tr>\n",
       "    <tr>\n",
       "      <th>3</th>\n",
       "      <td>5</td>\n",
       "      <td>91094580</td>\n",
       "    </tr>\n",
       "    <tr>\n",
       "      <th>4</th>\n",
       "      <td>10</td>\n",
       "      <td>92474370</td>\n",
       "    </tr>\n",
       "    <tr>\n",
       "      <th>5</th>\n",
       "      <td>25</td>\n",
       "      <td>90793100</td>\n",
       "    </tr>\n",
       "    <tr>\n",
       "      <th>6</th>\n",
       "      <td>50</td>\n",
       "      <td>92720870</td>\n",
       "    </tr>\n",
       "    <tr>\n",
       "      <th>7</th>\n",
       "      <td>100</td>\n",
       "      <td>90937850</td>\n",
       "    </tr>\n",
       "    <tr>\n",
       "      <th>8</th>\n",
       "      <td>250</td>\n",
       "      <td>92830760</td>\n",
       "    </tr>\n",
       "    <tr>\n",
       "      <th>9</th>\n",
       "      <td>500</td>\n",
       "      <td>92632290</td>\n",
       "    </tr>\n",
       "    <tr>\n",
       "      <th>10</th>\n",
       "      <td>998</td>\n",
       "      <td>92680510</td>\n",
       "    </tr>\n",
       "  </tbody>\n",
       "</table>\n",
       "</div>"
      ],
      "text/plain": [
       "    index         0\n",
       "0       0  92084010\n",
       "1       1  92336950\n",
       "2       2  90611900\n",
       "3       5  91094580\n",
       "4      10  92474370\n",
       "5      25  90793100\n",
       "6      50  92720870\n",
       "7     100  90937850\n",
       "8     250  92830760\n",
       "9     500  92632290\n",
       "10    998  92680510"
      ]
     },
     "execution_count": 12,
     "metadata": {},
     "output_type": "execute_result"
    }
   ],
   "source": [
    "display(pd.Series(ep_costs).describe().reset_index())\n",
    "pd.Series(ep_costs)[[0,1,2,5,10,25,50,100,250,500,998]].reset_index()"
   ]
  },
  {
   "cell_type": "code",
   "execution_count": 13,
   "metadata": {},
   "outputs": [],
   "source": [
    "ep_costs=[]\n",
    "num_eps=1000\n",
    "for i in range(num_eps):\n",
    "    summary_i = pd.read_csv(f\"/Users/aleph/Documents/jota/tesis/ts_mcfrl/python/src/experiments/aug_8_dqn_debugging/data/results/dqn2_few_warehouses_v2/ep_{i}/summary_movement_report.csv\")\n",
    "    ep_cost=summary_i.total_cost.sum()\n",
    "    ep_costs.append(ep_cost)"
   ]
  },
  {
   "cell_type": "code",
   "execution_count": 14,
   "metadata": {},
   "outputs": [
    {
     "data": {
      "text/plain": [
       "<matplotlib.axes._subplots.AxesSubplot at 0x1373677f0>"
      ]
     },
     "execution_count": 14,
     "metadata": {},
     "output_type": "execute_result"
    },
    {
     "data": {
      "image/png": "[encoded data removed]",
      "text/plain": [
       "<Figure size 432x288 with 1 Axes>"
      ]
     },
     "metadata": {
      "image/png": {
       "height": 258,
       "width": 372
      },
      "needs_background": "light"
     },
     "output_type": "display_data"
    }
   ],
   "source": [
    "sns.lineplot(range(len(ep_costs)),ep_costs)"
   ]
  },
  {
   "cell_type": "code",
   "execution_count": 129,
   "metadata": {},
   "outputs": [],
   "source": [
    "detail_0 = pd.read_csv(f\"/Users/aleph/Documents/jota/tesis/ts_mcfrl/python/src/experiments/aug_8_dqn_debugging/data/results/dqn2_few_warehouses_v2/ep_0/movement_detail_report.csv\")\n",
    "detail_999 = pd.read_csv(f\"/Users/aleph/Documents/jota/tesis/ts_mcfrl/python/src/experiments/aug_8_dqn_debugging/data/results/dqn2_few_warehouses_v2/ep_999/movement_detail_report.csv\")\n",
    "detail_0=add_is_m(detail_0)\n",
    "detail_999=add_is_m(detail_999)"
   ]
  },
  {
   "cell_type": "code",
   "execution_count": 131,
   "metadata": {},
   "outputs": [
    {
     "name": "stdout",
     "output_type": "stream",
     "text": [
      "is_m\n",
      "False    105\n",
      "True      45\n",
      "dtype: int64\n",
      "is_m\n",
      "False    110\n",
      "True      40\n",
      "dtype: int64\n"
     ]
    }
   ],
   "source": [
    "print(detail_0.query('customer_cost>0').groupby('is_m').size())\n",
    "print(detail_999.query('customer_cost>0').groupby('is_m').size())"
   ]
  }
 ],
 "metadata": {
  "kernelspec": {
   "display_name": "Python 3",
   "language": "python",
   "name": "python3"
  },
  "language_info": {
   "codemirror_mode": {
    "name": "ipython",
    "version": 3
   },
   "file_extension": ".py",
   "mimetype": "text/x-python",
   "name": "python",
   "nbconvert_exporter": "python",
   "pygments_lexer": "ipython3",
   "version": "3.8.3"
  }
 },
 "nbformat": 4,
 "nbformat_minor": 4
}
